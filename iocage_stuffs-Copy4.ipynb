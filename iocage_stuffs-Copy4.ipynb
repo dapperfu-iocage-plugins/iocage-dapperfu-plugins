{
 "cells": [
  {
   "cell_type": "code",
   "execution_count": 1,
   "metadata": {},
   "outputs": [],
   "source": [
    "import glob\n",
    "import json\n",
    "import os\n",
    "import shutil"
   ]
  },
  {
   "cell_type": "code",
   "execution_count": 9,
   "metadata": {},
   "outputs": [],
   "source": [
    "def process_iocage_plugin_2(manifest):\n",
    "    manifest = os.path.abspath(manifest)\n",
    "\n",
    "    assert os.path.exists(manifest), FileNotFoundError(manifest)\n",
    "\n",
    "    path, basename = os.path.split(manifest)\n",
    "    iocage_name, ext = os.path.splitext(basename)\n",
    "    dirname = os.path.basename(path)\n",
    "    assert iocage_name == dirname\n",
    "    assert ext == \".json\"\n",
    "    # Open file for reading.\n",
    "    with open(manifest, \"r\") as fid:\n",
    "        # Load the json.\n",
    "        try:\n",
    "            plugin_json = json.load(fid)\n",
    "        except json.JSONDecodeError:\n",
    "            raise Exception(manifest)\n",
    "        except:\n",
    "            raise\n",
    "    #\n",
    "    # Plugin Tests.\n",
    "    plugin_json[\"release\"] = \"12.0-RELEASE\"\n",
    "    assert plugin_json[\"release\"] == \"12.0-RELEASE\"\n",
    "    plugin_json[\"plugin_schema\"] = \"2\"\n",
    "    assert plugin_json[\"plugin_schema\"] == \"2\"\n",
    "    \n",
    "    if \"properties\" not in plugin_json:\n",
    "        plugin_json[\"properties\"] = {\n",
    "            \"allow_raw_sockets\": \"1\",\n",
    "            \"boot\": \"on\",\n",
    "            \"bpf\": \"yes\",\n",
    "            \"dhcp\": \"on\",\n",
    "            \"vnet\": \"on\"\n",
    "        }\n",
    "\n",
    "    # Open file for writing.\n",
    "    with open(manifest, \"w\") as fid:\n",
    "        # Pretty print, indent, and sort keys.\n",
    "        json.dump(plugin_json, fid, indent=4, sort_keys=True)\n",
    "\n",
    "    shutil.copy(manifest, os.path.dirname(path))\n",
    "    return (\n",
    "        iocage_name,\n",
    "        dict(\n",
    "            {\n",
    "                \"MANIFEST\": basename,\n",
    "                \"name\": iocage_name,\n",
    "                \"official\": False,\n",
    "                \"description\": \"TODO:\",\n",
    "                \"icon\": \"\",\n",
    "            }\n",
    "        ),\n",
    "    )\n"
   ]
  },
  {
   "cell_type": "code",
   "execution_count": 11,
   "metadata": {},
   "outputs": [],
   "source": [
    "INDEX = dict()\n",
    "manifests = glob.glob(\"*/*.json\")\n",
    "for manifest in manifests:\n",
    "    if \"template\" in manifest:\n",
    "        continue\n",
    "    manifest = os.path.abspath(manifest)\n",
    "    key, data = process_iocage_plugin_2(manifest)\n",
    "    INDEX[key] = data\n",
    "# Open the index file.\n",
    "with open(\"INDEX\", \"w\") as fid:\n",
    "    # Pretty print, indent, and sort keys.\n",
    "    json.dump(INDEX, fid, indent=4, sort_keys=True)\n"
   ]
  },
  {
   "cell_type": "code",
   "execution_count": null,
   "metadata": {},
   "outputs": [],
   "source": []
  }
 ],
 "metadata": {
  "kernelspec": {
   "display_name": "Python 3",
   "language": "python",
   "name": "python3"
  },
  "language_info": {
   "codemirror_mode": {
    "name": "ipython",
    "version": 3
   },
   "file_extension": ".py",
   "mimetype": "text/x-python",
   "name": "python",
   "nbconvert_exporter": "python",
   "pygments_lexer": "ipython3",
   "version": "3.6.9"
  }
 },
 "nbformat": 4,
 "nbformat_minor": 2
}
