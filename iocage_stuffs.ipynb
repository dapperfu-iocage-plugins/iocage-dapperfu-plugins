{
 "cells": [
  {
   "cell_type": "code",
   "execution_count": 1,
   "metadata": {},
   "outputs": [],
   "source": [
    "import glob"
   ]
  },
  {
   "cell_type": "code",
   "execution_count": 2,
   "metadata": {},
   "outputs": [],
   "source": [
    "manifests = glob.glob(\"*/*.json\")"
   ]
  },
  {
   "cell_type": "code",
   "execution_count": 11,
   "metadata": {},
   "outputs": [],
   "source": [
    "for manifest in manifests:\n",
    "    if 'template' in manifest:\n",
    "        continue\n",
    "    break"
   ]
  },
  {
   "cell_type": "code",
   "execution_count": 12,
   "metadata": {},
   "outputs": [
    {
     "data": {
      "text/plain": [
       "'dhcp/dhcp.json'"
      ]
     },
     "execution_count": 12,
     "metadata": {},
     "output_type": "execute_result"
    }
   ],
   "source": [
    "manifest"
   ]
  },
  {
   "cell_type": "code",
   "execution_count": 13,
   "metadata": {},
   "outputs": [],
   "source": [
    "import json"
   ]
  },
  {
   "cell_type": "code",
   "execution_count": 18,
   "metadata": {},
   "outputs": [],
   "source": [
    "with open(manifest, 'r') as fid:\n",
    "    plugin_json = json.load(fid)"
   ]
  },
  {
   "cell_type": "code",
   "execution_count": 26,
   "metadata": {},
   "outputs": [],
   "source": [
    "with open(manifest, 'w') as fid:\n",
    "    json.dump(plugin_json, fid, indent=4, sort_keys=True)"
   ]
  },
  {
   "cell_type": "code",
   "execution_count": 30,
   "metadata": {},
   "outputs": [],
   "source": [
    "with open(\"INDEX\", 'r') as fid:\n",
    "    index_json = json.load(fid)"
   ]
  },
  {
   "cell_type": "code",
   "execution_count": 32,
   "metadata": {},
   "outputs": [
    {
     "data": {
      "text/plain": [
       "'dhcp/dhcp.json'"
      ]
     },
     "execution_count": 32,
     "metadata": {},
     "output_type": "execute_result"
    }
   ],
   "source": [
    "manifest"
   ]
  },
  {
   "cell_type": "code",
   "execution_count": 33,
   "metadata": {},
   "outputs": [
    {
     "data": {
      "text/plain": [
       "'dhcp/dhcp'"
      ]
     },
     "execution_count": 33,
     "metadata": {},
     "output_type": "execute_result"
    }
   ],
   "source": [
    "manifest.split(\".\")[0]"
   ]
  },
  {
   "cell_type": "code",
   "execution_count": null,
   "metadata": {},
   "outputs": [],
   "source": [
    "manifest.split(\".\")[0]"
   ]
  },
  {
   "cell_type": "code",
   "execution_count": 36,
   "metadata": {},
   "outputs": [],
   "source": [
    "assert manifest.split(\".\")[0].split(\"/\")[0] == manifest.split(\".\")[0].split(\"/\")[1]"
   ]
  },
  {
   "cell_type": "code",
   "execution_count": 37,
   "metadata": {},
   "outputs": [],
   "source": [
    "iocage_names, ext = manifest.split(\".\")"
   ]
  },
  {
   "cell_type": "code",
   "execution_count": 41,
   "metadata": {},
   "outputs": [],
   "source": [
    "assert ext == \"json\""
   ]
  },
  {
   "cell_type": "code",
   "execution_count": 42,
   "metadata": {},
   "outputs": [],
   "source": [
    "iocage_name, iocage_name_ = iocage_names.split(\"/\")"
   ]
  },
  {
   "cell_type": "code",
   "execution_count": 43,
   "metadata": {},
   "outputs": [],
   "source": [
    "assert iocage_name == iocage_name_"
   ]
  },
  {
   "cell_type": "code",
   "execution_count": 44,
   "metadata": {},
   "outputs": [
    {
     "data": {
      "text/plain": [
       "{'rslsync': {'MANIFEST': 'rslsync.json',\n",
       "  'name': 'Resilio Sync',\n",
       "  'primary_pkg': 'rslsync',\n",
       "  'icon': 'https://www.trueos.org/iocage-icons/btsync.png',\n",
       "  'description': 'Fast and scalable file sync software for home and business.',\n",
       "  'official': True},\n",
       " 'backuppc': {'MANIFEST': 'backuppc.json',\n",
       "  'name': 'BackupPC',\n",
       "  'primary_pkg': 'backuppc4',\n",
       "  'icon': 'https://www.trueos.org/iocage-icons/backuppc.png',\n",
       "  'description': 'Enterprise-grade system for backing up Linux, Windows, and MacOSX computers to a server.',\n",
       "  'official': True},\n",
       " 'clamav': {'MANIFEST': 'clamav.json',\n",
       "  'name': 'ClamAV',\n",
       "  'primary_pkg': 'clamav',\n",
       "  'icon': 'https://www.trueos.org/iocage-icons/clamav.png',\n",
       "  'description': 'Open source antivirus engine for detecting trojans, viruses, malware, and other malicious threats.',\n",
       "  'official': True},\n",
       " 'couchpotato': {'MANIFEST': 'couchpotato.json',\n",
       "  'name': 'CouchPotato',\n",
       "  'primary_pkg': 'couchpotato',\n",
       "  'icon': 'https://www.trueos.org/iocage-icons/couchpotato.png',\n",
       "  'description': 'Automatic NZB and torrent downloader.',\n",
       "  'official': True},\n",
       " 'emby': {'MANIFEST': 'emby.json',\n",
       "  'name': 'Emby',\n",
       "  'primary_pkg': 'emby-server',\n",
       "  'icon': 'https://www.trueos.org/iocage-icons/emby.png',\n",
       "  'description': 'Home media server to organize, play, and stream audio and video to a variety of devices.',\n",
       "  'official': True},\n",
       " 'gitlab': {'MANIFEST': 'gitlab.json',\n",
       "  'name': 'GitLab',\n",
       "  'primary_pkg': 'gitlab-ce',\n",
       "  'icon': 'https://www.trueos.org/iocage-icons/gitlab.png',\n",
       "  'description': 'DevOps lifecycle tool that provides a Git repository manager providing wiki, issue-tracking, and CI/CD pipeline features.',\n",
       "  'official': True},\n",
       " 'gitlab-runner': {'MANIFEST': 'gitlab-runner.json',\n",
       "  'name': 'GitLab Runner',\n",
       "  'primary_pkg': 'gitlab-runner',\n",
       "  'icon': 'https://www.trueos.org/iocage-icons/gitlab.png',\n",
       "  'description': 'Run jobs and send results back to GitLab. Used in conjunction with GitLab CI.',\n",
       "  'official': False},\n",
       " 'jenkins': {'MANIFEST': 'jenkins.json',\n",
       "  'name': 'Jenkins',\n",
       "  'primary_pkg': 'jenkins',\n",
       "  'icon': 'https://www.trueos.org/iocage-icons/jenkins.png',\n",
       "  'description': 'Open source build automation software.',\n",
       "  'official': True},\n",
       " 'jenkins-lts': {'MANIFEST': 'jenkins-lts.json',\n",
       "  'name': 'Jenkins (LTS)',\n",
       "  'primary_pkg': 'jenkins-lts',\n",
       "  'icon': 'https://www.trueos.org/iocage-icons/jenkins.png',\n",
       "  'description': 'Open source build automation software. (Long Term Support Version)',\n",
       "  'official': True},\n",
       " 'nextcloud': {'MANIFEST': 'nextcloud.json',\n",
       "  'name': 'Nextcloud',\n",
       "  'primary_pkg': 'nextcloud-php71',\n",
       "  'icon': 'https://www.trueos.org/iocage-icons/nextcloud.png',\n",
       "  'description': 'Suite of client-server software for creating and using file hosting services.',\n",
       "  'official': True},\n",
       " 'openvpn': {'MANIFEST': 'openvpn.json',\n",
       "  'name': 'OpenVPN Server',\n",
       "  'primary_pkg': 'openvpn',\n",
       "  'icon': 'http://swupdate.openvpn.net/community/icons/ovpntech_key.png',\n",
       "  'description': 'Virtual private network software to create secure point-to-point connections.',\n",
       "  'official': False},\n",
       " 'plexmediaserver': {'MANIFEST': 'plexmediaserver.json',\n",
       "  'name': 'Plex Media Server',\n",
       "  'primary_pkg': 'plexmediaserver',\n",
       "  'icon': 'https://www.trueos.org/iocage-icons/plex.png',\n",
       "  'description': 'Media center software to easily manage and stream digital media.',\n",
       "  'official': True},\n",
       " 'redmine': {'MANIFEST': 'redmine.json',\n",
       "  'name': 'Redmine',\n",
       "  'primary_pkg': 'redmine',\n",
       "  'icon': 'https://www.trueos.org/iocage-icons/redmine.png',\n",
       "  'description': 'Open source ticket management software to track bugs and feature requests.',\n",
       "  'official': True},\n",
       " 'plexmediaserver-plexpass': {'MANIFEST': 'plexmediaserver-plexpass.json',\n",
       "  'name': 'Plex Media Server (PlexPass)',\n",
       "  'primary_pkg': 'plexmediaserver-plexpass',\n",
       "  'icon': 'https://www.trueos.org/iocage-icons/plex.png',\n",
       "  'description': 'Media center software to easily manage and stream digital media. (Requires Subscription)',\n",
       "  'official': True},\n",
       " 'quasselcore': {'MANIFEST': 'quasselcore.json',\n",
       "  'name': 'Quasselcore',\n",
       "  'primary_pkg': 'quassel-core',\n",
       "  'icon': 'https://www.trueos.org/iocage-icons/quasselcore.png',\n",
       "  'description': 'Headless IRC Client that supports 24/7 connectivity. Quassel Client can be attached.',\n",
       "  'official': True},\n",
       " 'subsonic': {'MANIFEST': 'subsonic.json',\n",
       "  'name': 'SubSonic',\n",
       "  'primary_pkg': 'subsonic-standalone',\n",
       "  'icon': 'https://www.trueos.org/iocage-icons/subsonic.png',\n",
       "  'description': 'Open source media streaming software and music player.',\n",
       "  'official': True},\n",
       " 'madsonic': {'MANIFEST': 'madsonic.json',\n",
       "  'name': 'MadSonic',\n",
       "  'primary_pkg': 'madsonic-standalone',\n",
       "  'icon': 'https://www.trueos.org/iocage-icons/madsonic.png',\n",
       "  'description': 'Open source media streaming software and music player.',\n",
       "  'official': True},\n",
       " 'syncthing': {'MANIFEST': 'syncthing.json',\n",
       "  'name': 'Syncthing',\n",
       "  'primary_pkg': 'syncthing',\n",
       "  'icon': 'https://www.trueos.org/iocage-icons/syncthing.png',\n",
       "  'description': 'Open source, peer-to-peer file synchronization application available for many operating systems.',\n",
       "  'official': True},\n",
       " 'deluge': {'MANIFEST': 'deluge.json',\n",
       "  'name': 'Deluge',\n",
       "  'primary_pkg': 'deluge-cli',\n",
       "  'icon': 'https://www.trueos.org/iocage-icons/deluge.png',\n",
       "  'description': 'Python-based Bittorent client.',\n",
       "  'official': True},\n",
       " 'sonarr': {'MANIFEST': 'sonarr.json',\n",
       "  'name': 'Sonarr',\n",
       "  'primary_pkg': 'sonarr',\n",
       "  'icon': 'https://www.trueos.org/iocage-icons/sonarr.png',\n",
       "  'description': 'Multi-platform app to search, download, and manage TV shows.',\n",
       "  'official': True},\n",
       " 'transmission': {'MANIFEST': 'transmission.json',\n",
       "  'name': 'Transmission',\n",
       "  'primary_pkg': 'transmission-daemon',\n",
       "  'icon': 'https://www.trueos.org/iocage-icons/transmission.png',\n",
       "  'description': 'Fast and lightweight BitTorrent client.',\n",
       "  'official': True},\n",
       " 'sickchill': {'MANIFEST': 'sickchill.json',\n",
       "  'name': 'SickChill',\n",
       "  'primary_pkg': 'Git branch - Master',\n",
       "  'icon': 'https://www.trueos.org/iocage-icons/sickchill.png',\n",
       "  'description': 'Automatic video library manager for TV Shows.',\n",
       "  'official': False},\n",
       " 'sickrage': {'MANIFEST': 'sickrage.json',\n",
       "  'name': 'SickRage',\n",
       "  'primary_pkg': 'Git branch - Master',\n",
       "  'icon': 'https://www.trueos.org/iocage-icons/sickrage.png',\n",
       "  'description': 'Automatic video library manager for TV shows.',\n",
       "  'official': True},\n",
       " 'tarsnap': {'MANIFEST': 'tarsnap.json',\n",
       "  'name': 'Tarsnap',\n",
       "  'primary_pkg': 'tarsnap',\n",
       "  'icon': 'https://www.trueos.org/iocage-icons/tarsnap.png',\n",
       "  'description': 'Secure online backup service for UNIX-like operating systems.',\n",
       "  'official': True},\n",
       " 'tautulli': {'MANIFEST': 'tautulli.json',\n",
       "  'name': 'Tautulli',\n",
       "  'primary_pkg': 'Git branch - Master',\n",
       "  'icon': 'https://www.trueos.org/iocage-icons/tautulli.png',\n",
       "  'description': 'Monitors analytics and notifications for Plex Media Server. (formerly known as PlexPy)',\n",
       "  'official': False},\n",
       " 'bru-server': {'MANIFEST': 'bru-server.json',\n",
       "  'name': 'BRU Server',\n",
       "  'icon': 'https://www.trueos.org/iocage-icons/bru-server.png',\n",
       "  'description': 'BRU Server™ Backup and Recovery Software by TOLIS Group, Inc.',\n",
       "  'license': 'https://raw.githubusercontent.com/freenas/iocage-plugin-bru-server/master/bru-license',\n",
       "  'official': True},\n",
       " 'bacula-server': {'MANIFEST': 'bacula-server.json',\n",
       "  'name': 'Bacula-server',\n",
       "  'primary_pkg': 'bacula9-server',\n",
       "  'icon': 'https://www.trueos.org/iocage-icons/bacula-server.png',\n",
       "  'description': 'Manage, backup, recover, and verify data across a diverse network of computers.',\n",
       "  'official': True},\n",
       " 'xmrig': {'MANIFEST': 'xmrig.json',\n",
       "  'name': 'XMRig',\n",
       "  'primary_pkg': 'xmrig',\n",
       "  'icon': 'https://www.trueos.org/iocage-icons/xmrig.png',\n",
       "  'description': 'High performance Monero (XMR) CPU miner written in C++.',\n",
       "  'official': True},\n",
       " 'qbittorrent': {'MANIFEST': 'qbittorrent.json',\n",
       "  'name': 'qbittorrent',\n",
       "  'primary_pkg': 'qbittorrent-nox',\n",
       "  'icon': 'https://www.trueos.org/iocage-icons/qbittorrent.png',\n",
       "  'description': 'Open source Bittorent client written in C++ and QT.',\n",
       "  'official': True},\n",
       " 'weechat': {'MANIFEST': 'weechat.json',\n",
       "  'name': 'weechat',\n",
       "  'primary_pkg': 'weechat',\n",
       "  'icon': 'https://www.trueos.org/iocage-icons/weechat.png',\n",
       "  'description': 'Fast and light IRC client.',\n",
       "  'official': True},\n",
       " 'irssi': {'MANIFEST': 'irssi.json',\n",
       "  'name': 'irssi',\n",
       "  'primary_pkg': 'irssi',\n",
       "  'icon': 'https://www.trueos.org/iocage-icons/irssi.png',\n",
       "  'description': 'Modular IRC client using a CLI interface.',\n",
       "  'official': True},\n",
       " 'zoneminder': {'MANIFEST': 'zoneminder.json',\n",
       "  'name': 'Zoneminder',\n",
       "  'primary_pkg': 'zoneminder',\n",
       "  'icon': 'https://www.trueos.org/iocage-icons/zoneminder.png',\n",
       "  'description': 'Closed-circuit television management application which supports IP, USB, and analog cameras.',\n",
       "  'official': True},\n",
       " 'radarr': {'MANIFEST': 'radarr.json',\n",
       "  'name': 'radarr',\n",
       "  'primary_pkg': 'radarr',\n",
       "  'icon': 'https://www.trueos.org/iocage-icons/radarr.png',\n",
       "  'description': 'Fork of Sonarr. Automatically download movies in the style of Couchpotato.',\n",
       "  'official': True},\n",
       " 'mineos': {'MANIFEST': 'mineos.json',\n",
       "  'name': 'MineOS',\n",
       "  'primary_pkg': 'Git branch - Master',\n",
       "  'icon': 'https://www.trueos.org/iocage-icons/mineos.png',\n",
       "  'description': 'Set up and manage Minecraft servers.',\n",
       "  'official': False},\n",
       " 'unificontroller': {'MANIFEST': 'unificontroller.json',\n",
       "  'name': 'unificontroller',\n",
       "  'primary_pkg': 'unifi5',\n",
       "  'icon': 'https://www.trueos.org/iocage-icons/unificontroller.png',\n",
       "  'description': 'Software-Defined Networking platform that provides an end-to-end system of network devices across different locations.',\n",
       "  'official': False},\n",
       " 'unificontroller-lts': {'MANIFEST': 'unificontroller-lts.json',\n",
       "  'name': 'unificontroller-lts',\n",
       "  'primary_pkg': 'unifi-lts',\n",
       "  'icon': 'https://www.trueos.org/iocage-icons/unificontroller.png',\n",
       "  'description': 'Software-Defined Networking platform that provides an end-to-end system of network devices across different locations. (Long term support version)',\n",
       "  'official': False},\n",
       " 'homebridge': {'MANIFEST': 'homebridge.json',\n",
       "  'name': 'Homebridge',\n",
       "  'icon': 'https://camo.githubusercontent.com/97c6fb19fc469358ceada9d9abd96fa65fc14a0f/68747470733a2f2f636c2e6c792f3939653638616334396365662f4c6f676f32782e706e67',\n",
       "  'description': 'Lightweight iOS HomeKit API emulator. Enables adding unsupported devices to HomeKit.',\n",
       "  'offical': False},\n",
       " 'dnsmasq': {'MANIFEST': 'dnsmasq.json',\n",
       "  'name': 'Dnsmasq',\n",
       "  'icon': 'https://www.trueos.org/iocage-icons/dnsmasq.png',\n",
       "  'description': 'Network infrastructure management for small networks: DNS, DHCP, router advertisement, and network boot.',\n",
       "  'official': False,\n",
       "  'primary_pkg': 'dnsmasq'}}"
      ]
     },
     "execution_count": 44,
     "metadata": {},
     "output_type": "execute_result"
    }
   ],
   "source": [
    "index_json"
   ]
  },
  {
   "cell_type": "code",
   "execution_count": 45,
   "metadata": {},
   "outputs": [],
   "source": [
    "INDEX = dict()"
   ]
  },
  {
   "cell_type": "code",
   "execution_count": 47,
   "metadata": {},
   "outputs": [
    {
     "ename": "SyntaxError",
     "evalue": "invalid syntax (<ipython-input-47-2b7b488635a8>, line 2)",
     "output_type": "error",
     "traceback": [
      "\u001b[0;36m  File \u001b[0;32m\"<ipython-input-47-2b7b488635a8>\"\u001b[0;36m, line \u001b[0;32m2\u001b[0m\n\u001b[0;31m    \"MANIFEST\"=f'{iocage_name}''.json\u001b[0m\n\u001b[0m              ^\u001b[0m\n\u001b[0;31mSyntaxError\u001b[0m\u001b[0;31m:\u001b[0m invalid syntax\n"
     ]
    }
   ],
   "source": [
    "INDEX[iocage_name] = {\n",
    "    'MANIFEST': '{iocage_name}.json\n",
    "}"
   ]
  },
  {
   "cell_type": "code",
   "execution_count": 48,
   "metadata": {},
   "outputs": [],
   "source": [
    "import os"
   ]
  },
  {
   "cell_type": "code",
   "execution_count": 49,
   "metadata": {},
   "outputs": [
    {
     "data": {
      "text/plain": [
       "'dhcp/dhcp.json'"
      ]
     },
     "execution_count": 49,
     "metadata": {},
     "output_type": "execute_result"
    }
   ],
   "source": [
    "manifest"
   ]
  },
  {
   "cell_type": "code",
   "execution_count": 50,
   "metadata": {},
   "outputs": [
    {
     "data": {
      "text/plain": [
       "'dhcp.json'"
      ]
     },
     "execution_count": 50,
     "metadata": {},
     "output_type": "execute_result"
    }
   ],
   "source": [
    "os.path.basename(manifest)"
   ]
  },
  {
   "cell_type": "code",
   "execution_count": 51,
   "metadata": {},
   "outputs": [
    {
     "data": {
      "text/plain": [
       "'dhcp'"
      ]
     },
     "execution_count": 51,
     "metadata": {},
     "output_type": "execute_result"
    }
   ],
   "source": [
    "os.path.dirname(manifest)"
   ]
  },
  {
   "cell_type": "code",
   "execution_count": 55,
   "metadata": {},
   "outputs": [
    {
     "data": {
      "text/plain": [
       "('dhcp', '.json')"
      ]
     },
     "execution_count": 55,
     "metadata": {},
     "output_type": "execute_result"
    }
   ],
   "source": [
    "os.path.splitext(os.path.basename(manifest))"
   ]
  },
  {
   "cell_type": "code",
   "execution_count": 56,
   "metadata": {},
   "outputs": [],
   "source": [
    "import shutil"
   ]
  },
  {
   "cell_type": "code",
   "execution_count": 57,
   "metadata": {},
   "outputs": [
    {
     "data": {
      "text/plain": [
       "'./dhcp.json'"
      ]
     },
     "execution_count": 57,
     "metadata": {},
     "output_type": "execute_result"
    }
   ],
   "source": [
    "shutil.copy(manifest, \".\")"
   ]
  },
  {
   "cell_type": "code",
   "execution_count": 59,
   "metadata": {},
   "outputs": [],
   "source": [
    "shutil.copy?"
   ]
  }
 ],
 "metadata": {
  "kernelspec": {
   "display_name": "Python 3",
   "language": "python",
   "name": "python3"
  },
  "language_info": {
   "codemirror_mode": {
    "name": "ipython",
    "version": 3
   },
   "file_extension": ".py",
   "mimetype": "text/x-python",
   "name": "python",
   "nbconvert_exporter": "python",
   "pygments_lexer": "ipython3",
   "version": "3.6.9"
  }
 },
 "nbformat": 4,
 "nbformat_minor": 2
}
