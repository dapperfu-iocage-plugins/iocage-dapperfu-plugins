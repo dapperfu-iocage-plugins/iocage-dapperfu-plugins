{
 "cells": [
  {
   "cell_type": "code",
   "execution_count": 1,
   "metadata": {},
   "outputs": [],
   "source": [
    "import jinja2"
   ]
  },
  {
   "cell_type": "code",
   "execution_count": 2,
   "metadata": {},
   "outputs": [],
   "source": [
    "template = \"\"\"\n",
    "# iocage plugins\n",
    "\n",
    "iocage plugins for my home machines. Tested on FreeBSD 12.0-RELEASE.\n",
    "\n",
    "May work with 11.2 (and FreeNAS), no guarantees.\n",
    "\n",
    "# Installing Plugins\n",
    "\n",
    "    git clone --recurse-submodules --jobs=8 https://github.com/jed-frey-freenas-plugins/iocage-jaf-plugins.git\n",
    "    cd iocage-jaf-plugins\n",
    "    ./install_jail.sh\n",
    "\"\"\""
   ]
  },
  {
   "cell_type": "code",
   "execution_count": 6,
   "metadata": {},
   "outputs": [],
   "source": [
    "from IPython.display import display, display_markdown"
   ]
  },
  {
   "cell_type": "code",
   "execution_count": 10,
   "metadata": {},
   "outputs": [],
   "source": [
    "display_markdown?"
   ]
  },
  {
   "cell_type": "code",
   "execution_count": 11,
   "metadata": {},
   "outputs": [
    {
     "data": {
      "text/markdown": [
       "\n",
       "# iocage plugins\n",
       "\n",
       "iocage plugins for my home machines. Tested on FreeBSD 12.0-RELEASE.\n",
       "\n",
       "May work with 11.2 (and FreeNAS), no guarantees.\n",
       "\n",
       "# Installing Plugins\n",
       "\n",
       "    git clone --recurse-submodules --jobs=8 https://github.com/jed-frey-freenas-plugins/iocage-jaf-plugins.git\n",
       "    cd iocage-jaf-plugins\n",
       "    ./install_jail.sh\n"
      ]
     },
     "metadata": {},
     "output_type": "display_data"
    }
   ],
   "source": [
    "display_markdown(template, raw=True)"
   ]
  },
  {
   "cell_type": "code",
   "execution_count": 12,
   "metadata": {},
   "outputs": [],
   "source": [
    "import json"
   ]
  },
  {
   "cell_type": "code",
   "execution_count": 16,
   "metadata": {},
   "outputs": [],
   "source": [
    "with open(\"INDEX\", \"r\") as fid:\n",
    "    INDEX=json.load(fid)"
   ]
  },
  {
   "cell_type": "code",
   "execution_count": 17,
   "metadata": {},
   "outputs": [
    {
     "data": {
      "text/plain": [
       "{'dhcp': {'MANIFEST': 'dhcp.json',\n",
       "  'description': 'TODO:',\n",
       "  'icon': '',\n",
       "  'name': 'dhcp',\n",
       "  'official': False},\n",
       " 'gitea': {'MANIFEST': 'gitea.json',\n",
       "  'description': 'TODO:',\n",
       "  'icon': '',\n",
       "  'name': 'gitea',\n",
       "  'official': False},\n",
       " 'homeassistant': {'MANIFEST': 'homeassistant.json',\n",
       "  'description': 'TODO:',\n",
       "  'icon': '',\n",
       "  'name': 'homeassistant',\n",
       "  'official': False},\n",
       " 'nextcloud': {'MANIFEST': 'nextcloud.json',\n",
       "  'description': 'TODO:',\n",
       "  'icon': '',\n",
       "  'name': 'nextcloud',\n",
       "  'official': False},\n",
       " 'open-zwave-control-panel': {'MANIFEST': 'open-zwave-control-panel.json',\n",
       "  'description': 'TODO:',\n",
       "  'icon': '',\n",
       "  'name': 'open-zwave-control-panel',\n",
       "  'official': False},\n",
       " 'transmission': {'MANIFEST': 'transmission.json',\n",
       "  'description': 'TODO:',\n",
       "  'icon': '',\n",
       "  'name': 'transmission',\n",
       "  'official': False}}"
      ]
     },
     "execution_count": 17,
     "metadata": {},
     "output_type": "execute_result"
    }
   ],
   "source": [
    "INDEX"
   ]
  },
  {
   "cell_type": "code",
   "execution_count": 25,
   "metadata": {},
   "outputs": [],
   "source": [
    "from jinja2 import Template"
   ]
  },
  {
   "cell_type": "code",
   "execution_count": 26,
   "metadata": {},
   "outputs": [],
   "source": [
    "foo =Template(\"\"\"\n",
    "{% for user in users %}\n",
    "  <li><a href=\"{{ user.url }}\">{{ user.username }}</a></li>\n",
    "{% endfor %}\n",
    "\"\"\")"
   ]
  },
  {
   "cell_type": "code",
   "execution_count": 27,
   "metadata": {},
   "outputs": [
    {
     "name": "stdout",
     "output_type": "stream",
     "text": [
      "origin\tgit@github.com:jed-frey-freenas-plugins/iocage-jaf-plugins.git (fetch)\r\n",
      "origin\tgit@github.com:jed-frey-freenas-plugins/iocage-jaf-plugins.git (push)\r\n",
      "origin-ssh\tgit@github.com:jed-frey-freenas-plugins/iocage-jaf-plugins.git (fetch)\r\n",
      "origin-ssh\tgit@github.com:jed-frey-freenas-plugins/iocage-jaf-plugins.git (push)\r\n"
     ]
    }
   ],
   "source": [
    "!git remote -v"
   ]
  },
  {
   "cell_type": "code",
   "execution_count": 28,
   "metadata": {},
   "outputs": [
    {
     "data": {
      "text/plain": [
       "<function dict.keys>"
      ]
     },
     "execution_count": 28,
     "metadata": {},
     "output_type": "execute_result"
    }
   ],
   "source": [
    "INDEX.keys"
   ]
  },
  {
   "cell_type": "code",
   "execution_count": 30,
   "metadata": {},
   "outputs": [
    {
     "data": {
      "text/plain": [
       "dict_keys(['dhcp', 'gitea', 'homeassistant', 'nextcloud', 'open-zwave-control-panel', 'transmission'])"
      ]
     },
     "execution_count": 30,
     "metadata": {},
     "output_type": "execute_result"
    }
   ],
   "source": []
  },
  {
   "cell_type": "code",
   "execution_count": 31,
   "metadata": {},
   "outputs": [],
   "source": [
    "foo =Template(\"\"\"\n",
    "{% for plugin in plugins %}\n",
    "./install_jail.sh {{ plugin }}\n",
    "{% endfor %}\n",
    "\"\"\")"
   ]
  },
  {
   "cell_type": "code",
   "execution_count": 32,
   "metadata": {},
   "outputs": [
    {
     "data": {
      "text/plain": [
       "'\\n\\n./install_jail.sh dhcp\\n\\n./install_jail.sh gitea\\n\\n./install_jail.sh homeassistant\\n\\n./install_jail.sh nextcloud\\n\\n./install_jail.sh open-zwave-control-panel\\n\\n./install_jail.sh transmission\\n'"
      ]
     },
     "execution_count": 32,
     "metadata": {},
     "output_type": "execute_result"
    }
   ],
   "source": [
    "foo.render(plugins=INDEX.keys())"
   ]
  },
  {
   "cell_type": "code",
   "execution_count": null,
   "metadata": {},
   "outputs": [],
   "source": []
  }
 ],
 "metadata": {
  "kernelspec": {
   "display_name": "Python 3",
   "language": "python",
   "name": "python3"
  },
  "language_info": {
   "codemirror_mode": {
    "name": "ipython",
    "version": 3
   },
   "file_extension": ".py",
   "mimetype": "text/x-python",
   "name": "python",
   "nbconvert_exporter": "python",
   "pygments_lexer": "ipython3",
   "version": "3.6.9"
  }
 },
 "nbformat": 4,
 "nbformat_minor": 2
}
