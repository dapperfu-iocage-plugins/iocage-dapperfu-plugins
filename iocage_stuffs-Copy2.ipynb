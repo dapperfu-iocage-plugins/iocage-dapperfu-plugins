{
 "cells": [
  {
   "cell_type": "code",
   "execution_count": 3,
   "metadata": {},
   "outputs": [],
   "source": [
    "import glob\n",
    "import json\n",
    "import os\n",
    "import shutil"
   ]
  },
  {
   "cell_type": "code",
   "execution_count": 4,
   "metadata": {},
   "outputs": [],
   "source": [
    "# !pip install git+https://github.com/jed-frey/jupyter_NotebookCleaners.git#egg=notebookcleaner"
   ]
  },
  {
   "cell_type": "code",
   "execution_count": 5,
   "metadata": {},
   "outputs": [],
   "source": [
    "# !notebookcleaner iocage_stuffs-Copy1.ipynb"
   ]
  },
  {
   "cell_type": "code",
   "execution_count": 43,
   "metadata": {},
   "outputs": [],
   "source": [
    "def process_iocage_plugin_1(manifest):\n",
    "    basename = os.path.basename(manifest)\n",
    "    #print(f\"basename = {basename}\")\n",
    "    iocage_name, ext = os.path.splitext(basename)\n",
    "    #print(f\"iocage_name = {iocage_name}\")\n",
    "    #print(f\"ext = {ext}\")\n",
    "    dirname = os.path.dirname(manifest)\n",
    "    #print(f\"dirname = {dirname}\")\n",
    "    assert iocage_name == dirname\n",
    "    assert ext == \".json\"\n",
    "    # Open file for reading.\n",
    "    with open(manifest, \"r\") as fid:\n",
    "        # Load the json.\n",
    "        plugin_json = json.load(fid)\n",
    "    # Open file for writing.\n",
    "    with open(manifest, \"w\") as fid:\n",
    "        # Pretty print, indent, and sort keys.\n",
    "        json.dump(plugin_json, fid, indent=4, sort_keys=True)\n",
    "    return basename, iocage_name\n",
    "  \n",
    "def process_iocage_plugin_2(manifest, basedir=\".\"):\n",
    "    shutil.copy(manifest, basedir)\n",
    "    \n",
    "    \n",
    "# Create Index Dictionary.\n",
    "INDEX=dict()\n",
    "manifests = glob.glob(\"*/*.json\")\n",
    "for manifest in manifests:\n",
    "    if \"template\" in manifest:\n",
    "        continue\n",
    "    iocage_name, iocage_name = process_iocage_plugin_1(manifest)\n",
    "    process_iocage_plugin_2(manifest, \".\")\n",
    "    INDEX[iocage_name] = {\n",
    "        'MANIFEST': basename,\n",
    "        \"name\": iocage_name,\n",
    "        'official': False,\n",
    "        'description': \"TODO:\",\n",
    "        'icon': \"\",\n",
    "    }\n",
    "# Open the index file.\n",
    "with open(\"INDEX\", \"w\") as fid:\n",
    "    # Pretty print, indent, and sort keys.\n",
    "    json.dump(INDEX, fid, indent=4, sort_keys=True)"
   ]
  },
  {
   "cell_type": "code",
   "execution_count": null,
   "metadata": {},
   "outputs": [],
   "source": []
  }
 ],
 "metadata": {
  "kernelspec": {
   "display_name": "Python 3",
   "language": "python",
   "name": "python3"
  },
  "language_info": {
   "codemirror_mode": {
    "name": "ipython",
    "version": 3
   },
   "file_extension": ".py",
   "mimetype": "text/x-python",
   "name": "python",
   "nbconvert_exporter": "python",
   "pygments_lexer": "ipython3",
   "version": "3.6.9"
  }
 },
 "nbformat": 4,
 "nbformat_minor": 2
}
