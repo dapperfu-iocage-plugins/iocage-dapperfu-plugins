{
 "cells": [
  {
   "cell_type": "code",
   "execution_count": 2,
   "metadata": {},
   "outputs": [],
   "source": [
    "import json\n",
    "\n",
    "from IPython.display import display, display_markdown\n",
    "from jinja2 import Template"
   ]
  },
  {
   "cell_type": "code",
   "execution_count": 7,
   "metadata": {},
   "outputs": [],
   "source": [
    "with open(\"INDEX\", \"r\") as fid:\n",
    "    INDEX = json.load(fid)\n",
    "plugins = INDEX.keys()"
   ]
  },
  {
   "cell_type": "code",
   "execution_count": 24,
   "metadata": {},
   "outputs": [
    {
     "data": {
      "text/markdown": [
       "\n",
       "# iocage plugins\n",
       "\n",
       "iocage plugins for my home machines. Tested on FreeBSD 12.0-RELEASE.\n",
       "\n",
       "May work with 11.2 (and FreeNAS), no guarantees.\n",
       "\n",
       "# Installing Plugins\n",
       "\n",
       "    git clone --recurse-submodules --jobs=8 https://github.com/jed-frey-freenas-plugins/iocage-jaf-plugins.git\n",
       "    cd iocage-jaf-plugins\n",
       "\n",
       "## Ipsum\n",
       "\n",
       "\n",
       "```./install_jail.sh dhcp```\n",
       "\n",
       "```./install_jail.sh gitea```\n",
       "\n",
       "```./install_jail.sh homeassistant```\n",
       "\n",
       "```./install_jail.sh nextcloud```\n",
       "\n",
       "```./install_jail.sh open-zwave-control-panel```\n",
       "\n",
       "```./install_jail.sh transmission```\n"
      ]
     },
     "metadata": {},
     "output_type": "display_data"
    }
   ],
   "source": [
    "README_TEMPLATE = Template(\"\"\"\n",
    "# iocage plugins\n",
    "\n",
    "iocage plugins for my home machines. Tested on FreeBSD 12.0-RELEASE.\n",
    "\n",
    "May work with 11.2 (and FreeNAS), no guarantees.\n",
    "\n",
    "# Installing Plugins\n",
    "\n",
    "    git clone --recurse-submodules --jobs=8 https://github.com/jed-frey-freenas-plugins/iocage-jaf-plugins.git\n",
    "    cd iocage-jaf-plugins\n",
    "\n",
    "## Ipsum\n",
    "\n",
    "{% for plugin in plugins %}\n",
    "```./install_jail.sh {{ plugin }}```\n",
    "{% endfor %}\n",
    "\"\"\")\n",
    "\n",
    "j = README_TEMPLATE.render(plugins=plugins)\n",
    "display_markdown(j, raw=True)\n"
   ]
  },
  {
   "cell_type": "code",
   "execution_count": 25,
   "metadata": {},
   "outputs": [],
   "source": [
    "import subprocess"
   ]
  },
  {
   "cell_type": "code",
   "execution_count": 34,
   "metadata": {},
   "outputs": [],
   "source": [
    "!pip search uname"
   ]
  },
  {
   "cell_type": "code",
   "execution_count": 33,
   "metadata": {},
   "outputs": [
    {
     "data": {
      "text/markdown": [
       "\n",
       "# iocage plugins\n",
       "\n",
       "iocage plugins for my home machines. \n",
       "\n",
       "Tested on FreeBSD nas 12.0-RELEASE FreeBSD 12.0-RELEASE r341666 GENERIC  amd64.\n",
       "\n",
       "May work with 11.2 (and FreeNAS), no guarantees.\n",
       "\n",
       "# Installing Plugins\n",
       "\n",
       "    git clone --recurse-submodules --jobs=8 https://github.com/jed-frey-freenas-plugins/iocage-jaf-plugins.git\n",
       "    cd iocage-jaf-plugins\n",
       "\n",
       "## Ipsum\n",
       "\n",
       "\n",
       "```./install_jail.sh dhcp```\n",
       "\n",
       "```./install_jail.sh gitea```\n",
       "\n",
       "```./install_jail.sh homeassistant```\n",
       "\n",
       "```./install_jail.sh nextcloud```\n",
       "\n",
       "```./install_jail.sh open-zwave-control-panel```\n",
       "\n",
       "```./install_jail.sh transmission```\n"
      ]
     },
     "metadata": {},
     "output_type": "display_data"
    }
   ],
   "source": [
    "README_TEMPLATE = Template(\"\"\"\n",
    "# iocage plugins\n",
    "\n",
    "iocage plugins for my home machines. \n",
    "\n",
    "Test Environment:\n",
    "\n",
    "{{ uname_a }}.\n",
    "\n",
    "With\n",
    "\n",
    "# Installing Plugins\n",
    "\n",
    "    git clone --recurse-submodules --jobs=8 https://github.com/jed-frey-freenas-plugins/iocage-jaf-plugins.git\n",
    "    cd iocage-jaf-plugins\n",
    "\n",
    "## Ipsum\n",
    "\n",
    "{% for plugin in plugins %}\n",
    "```./install_jail.sh {{ plugin }}```\n",
    "{% endfor %}\n",
    "\"\"\")\n",
    "\n",
    "template_cfg=dict({\n",
    "    \"plugins\": plugins,\n",
    "    \"uname\": subprocess.check_output([\"uname\", \"-a\"]).decode(\"UTF-8\").strip()\n",
    "})\n",
    "\n",
    "j = README_TEMPLATE.render(**template_cfg)\n",
    "display_markdown(j, raw=True)\n"
   ]
  },
  {
   "cell_type": "code",
   "execution_count": 35,
   "metadata": {},
   "outputs": [],
   "source": [
    "import platform"
   ]
  },
  {
   "cell_type": "code",
   "execution_count": 39,
   "metadata": {},
   "outputs": [],
   "source": [
    "n = platform.uname()"
   ]
  },
  {
   "cell_type": "code",
   "execution_count": 41,
   "metadata": {},
   "outputs": [
    {
     "data": {
      "text/plain": [
       "'FreeBSD'"
      ]
     },
     "execution_count": 41,
     "metadata": {},
     "output_type": "execute_result"
    }
   ],
   "source": [
    "n.system"
   ]
  },
  {
   "cell_type": "code",
   "execution_count": 50,
   "metadata": {},
   "outputs": [
    {
     "data": {
      "text/plain": [
       "['__module__',\n",
       " '__doc__',\n",
       " '__slots__',\n",
       " '_fields',\n",
       " '__new__',\n",
       " '_make',\n",
       " '_replace',\n",
       " '__repr__',\n",
       " '_asdict',\n",
       " '__getnewargs__',\n",
       " 'system',\n",
       " 'node',\n",
       " 'release',\n",
       " 'version',\n",
       " 'machine',\n",
       " 'processor',\n",
       " '_source',\n",
       " '__hash__',\n",
       " '__getattribute__',\n",
       " '__lt__',\n",
       " '__le__',\n",
       " '__eq__',\n",
       " '__ne__',\n",
       " '__gt__',\n",
       " '__ge__',\n",
       " '__iter__',\n",
       " '__len__',\n",
       " '__getitem__',\n",
       " '__add__',\n",
       " '__mul__',\n",
       " '__rmul__',\n",
       " '__contains__',\n",
       " 'index',\n",
       " 'count',\n",
       " '__str__',\n",
       " '__setattr__',\n",
       " '__delattr__',\n",
       " '__init__',\n",
       " '__reduce_ex__',\n",
       " '__reduce__',\n",
       " '__subclasshook__',\n",
       " '__init_subclass__',\n",
       " '__format__',\n",
       " '__sizeof__',\n",
       " '__dir__',\n",
       " '__class__']"
      ]
     },
     "execution_count": 50,
     "metadata": {},
     "output_type": "execute_result"
    }
   ],
   "source": [
    "n.__dir__()"
   ]
  },
  {
   "cell_type": "code",
   "execution_count": 54,
   "metadata": {},
   "outputs": [
    {
     "name": "stdout",
     "output_type": "stream",
     "text": [
      "system: FreeBSD\n",
      "node: nas\n",
      "release: 12.0-RELEASE\n",
      "version: FreeBSD 12.0-RELEASE r341666 GENERIC\n",
      "machine: amd64\n",
      "processor: amd64\n",
      "index: <built-in method index of uname_result object at 0x802cf02b8>\n",
      "count: <built-in method count of uname_result object at 0x802cf02b8>\n"
     ]
    }
   ],
   "source": [
    "for k in n.__dir__():\n",
    "    if k.startswith(\"_\"):\n",
    "        continue\n",
    "    v = getattr(n, k)\n",
    "    print(f\"{k}: {v}\")"
   ]
  },
  {
   "cell_type": "code",
   "execution_count": 44,
   "metadata": {},
   "outputs": [
    {
     "data": {
      "text/markdown": [
       "\n",
       "# iocage plugins\n",
       "\n",
       "iocage plugins for my home machines. \n",
       "\n",
       "Test Environment:\n",
       "\n",
       "FreeBSD.\n",
       "\n",
       "With\n",
       "\n",
       "# Installing Plugins\n",
       "\n",
       "    git clone --recurse-submodules --jobs=8 https://github.com/jed-frey-freenas-plugins/iocage-jaf-plugins.git\n",
       "    cd iocage-jaf-plugins\n",
       "\n",
       "## Ipsum\n",
       "\n",
       "\n",
       "```./install_jail.sh dhcp```\n",
       "\n",
       "```./install_jail.sh gitea```\n",
       "\n",
       "```./install_jail.sh homeassistant```\n",
       "\n",
       "```./install_jail.sh nextcloud```\n",
       "\n",
       "```./install_jail.sh open-zwave-control-panel```\n",
       "\n",
       "```./install_jail.sh transmission```\n"
      ]
     },
     "metadata": {},
     "output_type": "display_data"
    }
   ],
   "source": [
    "README_TEMPLATE = Template(\"\"\"\n",
    "# iocage plugins\n",
    "\n",
    "iocage plugins for my home machines. \n",
    "\n",
    "Test Environment:\n",
    "\n",
    " - ```{{ uname.version }}```\n",
    " - \n",
    "With\n",
    "\n",
    "# Installing Plugins\n",
    "\n",
    "    git clone --recurse-submodules --jobs=8 https://github.com/jed-frey-freenas-plugins/iocage-jaf-plugins.git\n",
    "    cd iocage-jaf-plugins\n",
    "\n",
    "## Ipsum\n",
    "\n",
    "{% for plugin in plugins %}\n",
    "```./install_jail.sh {{ plugin }}```\n",
    "{% endfor %}\n",
    "\"\"\")\n",
    "\n",
    "template_cfg=dict({\n",
    "    \"plugins\": plugins,\n",
    "    \"uname\": platform.uname(),\n",
    "})\n",
    "\n",
    "j = README_TEMPLATE.render(**template_cfg)\n",
    "display_markdown(j, raw=True)\n"
   ]
  },
  {
   "cell_type": "code",
   "execution_count": 55,
   "metadata": {},
   "outputs": [],
   "source": [
    "import sys"
   ]
  },
  {
   "cell_type": "code",
   "execution_count": 56,
   "metadata": {},
   "outputs": [],
   "source": [
    "sys.path.append(\"/root/iocage/\")"
   ]
  },
  {
   "cell_type": "code",
   "execution_count": 59,
   "metadata": {},
   "outputs": [],
   "source": [
    "import iocage_lib"
   ]
  },
  {
   "cell_type": "code",
   "execution_count": 63,
   "metadata": {
    "scrolled": true
   },
   "outputs": [
    {
     "data": {
      "text/plain": [
       "['IOCList',\n",
       " '__builtins__',\n",
       " '__cached__',\n",
       " '__doc__',\n",
       " '__file__',\n",
       " '__loader__',\n",
       " '__name__',\n",
       " '__package__',\n",
       " '__spec__',\n",
       " '_uuid',\n",
       " 'iocage_lib',\n",
       " 'json',\n",
       " 'libzfs',\n",
       " 'netifaces',\n",
       " 'os',\n",
       " 're',\n",
       " 'su',\n",
       " 'texttable']"
      ]
     },
     "execution_count": 63,
     "metadata": {},
     "output_type": "execute_result"
    }
   ],
   "source": [
    "dir(iocage_lib)"
   ]
  },
  {
   "cell_type": "code",
   "execution_count": 65,
   "metadata": {},
   "outputs": [
    {
     "data": {
      "text/plain": [
       "b'Version\\t1.2 RC\\n'"
      ]
     },
     "execution_count": 65,
     "metadata": {},
     "output_type": "execute_result"
    }
   ],
   "source": [
    "subprocess.check_output([\"python3\", \"/root/iocage/iocage\", \"--version\"])"
   ]
  },
  {
   "cell_type": "code",
   "execution_count": 66,
   "metadata": {},
   "outputs": [
    {
     "data": {
      "text/plain": [
       "'Version\\t1.2 RC'"
      ]
     },
     "execution_count": 66,
     "metadata": {},
     "output_type": "execute_result"
    }
   ],
   "source": [
    "subprocess.check_output([\"python3\", \"/root/iocage/iocage\", \"--version\"]).decode(\"UTF-8\").strip()"
   ]
  },
  {
   "cell_type": "code",
   "execution_count": 67,
   "metadata": {},
   "outputs": [],
   "source": [
    "iocage_version = subprocess.check_output([\"python3\", \"/root/iocage/iocage\", \"--version\"]).decode(\"UTF-8\").strip()"
   ]
  },
  {
   "cell_type": "code",
   "execution_count": 70,
   "metadata": {},
   "outputs": [
    {
     "data": {
      "text/markdown": [
       "\n",
       "# iocage plugins\n",
       "\n",
       "iocage plugins for my home machines. \n",
       "\n",
       "Test Environment:\n",
       "\n",
       " - ```FreeBSD 12.0-RELEASE r341666 GENERIC```\n",
       " - iocage ```Version 1.2 RC```\n",
       "\n",
       "# Installing Plugins\n",
       "\n",
       "    git clone --recurse-submodules --jobs=8 https://github.com/jed-frey-freenas-plugins/iocage-jaf-plugins.git\n",
       "    cd iocage-jaf-plugins\n",
       "\n",
       "## Ipsum\n",
       "\n",
       "\n",
       "```./install_jail.sh dhcp```\n",
       "\n",
       "```./install_jail.sh gitea```\n",
       "\n",
       "```./install_jail.sh homeassistant```\n",
       "\n",
       "```./install_jail.sh nextcloud```\n",
       "\n",
       "```./install_jail.sh open-zwave-control-panel```\n",
       "\n",
       "```./install_jail.sh transmission```\n"
      ]
     },
     "metadata": {},
     "output_type": "display_data"
    }
   ],
   "source": [
    "README_TEMPLATE = Template(\"\"\"\n",
    "# iocage plugins\n",
    "\n",
    "iocage plugins for my home machines. \n",
    "\n",
    "Test Environment:\n",
    "\n",
    " - ```{{ uname.version }}```\n",
    " - iocage ```{{ iocage_version }}```\n",
    "\n",
    "# Installing Plugins\n",
    "\n",
    "    git clone --recurse-submodules --jobs=8 https://github.com/jed-frey-freenas-plugins/iocage-jaf-plugins.git\n",
    "    cd iocage-jaf-plugins\n",
    "\n",
    "## Ipsum\n",
    "\n",
    "{% for plugin in plugins %}\n",
    "```./install_jail.sh {{ plugin }}```\n",
    "{% endfor %}\n",
    "\"\"\")\n",
    "\n",
    "template_cfg=dict({\n",
    "    \"plugins\": plugins,\n",
    "    \"uname\": platform.uname(),\n",
    "    \"iocage_version\": iocage_version.replace(\"\\t\", \" \"),\n",
    "})\n",
    "\n",
    "j = README_TEMPLATE.render(**template_cfg)\n",
    "display_markdown(j, raw=True)\n"
   ]
  },
  {
   "cell_type": "code",
   "execution_count": 71,
   "metadata": {},
   "outputs": [
    {
     "name": "stdout",
     "output_type": "stream",
     "text": [
      "origin\tgit@github.com:jed-frey-freenas-plugins/iocage-jaf-plugins.git (fetch)\r\n",
      "origin\tgit@github.com:jed-frey-freenas-plugins/iocage-jaf-plugins.git (push)\r\n",
      "origin-ssh\tgit@github.com:jed-frey-freenas-plugins/iocage-jaf-plugins.git (fetch)\r\n",
      "origin-ssh\tgit@github.com:jed-frey-freenas-plugins/iocage-jaf-plugins.git (push)\r\n"
     ]
    }
   ],
   "source": [
    "!git remote -v"
   ]
  },
  {
   "cell_type": "code",
   "execution_count": 73,
   "metadata": {},
   "outputs": [
    {
     "name": "stdout",
     "output_type": "stream",
     "text": [
      "git@github.com:jed-frey-freenas-plugins/iocage-jaf-plugins.git\r\n"
     ]
    }
   ],
   "source": [
    "!git remote get-url origin"
   ]
  },
  {
   "cell_type": "code",
   "execution_count": 74,
   "metadata": {},
   "outputs": [],
   "source": [
    "import re"
   ]
  },
  {
   "cell_type": "code",
   "execution_count": 75,
   "metadata": {},
   "outputs": [],
   "source": [
    "ssh_url = \"git@github.com:jed-frey-freenas-plugins/iocage-jaf-plugins.git\"\n",
    "https_url = \"https://github.com/jaf-iocage-plugins/iocage-jaf-plugins.git\""
   ]
  },
  {
   "cell_type": "code",
   "execution_count": 76,
   "metadata": {},
   "outputs": [
    {
     "data": {
      "text/plain": [
       "b'git@github.com:jed-frey-freenas-plugins/iocage-jaf-plugins.git\\n'"
      ]
     },
     "execution_count": 76,
     "metadata": {},
     "output_type": "execute_result"
    }
   ],
   "source": [
    "subprocess.check_output(\"git remote get-url origin\".split(\" \"))"
   ]
  },
  {
   "cell_type": "code",
   "execution_count": 78,
   "metadata": {},
   "outputs": [],
   "source": [
    "remote_url = subprocess.check_output(\"git remote get-url origin\".split(\" \")).decode(\"UTF-8\").strip()"
   ]
  },
  {
   "cell_type": "code",
   "execution_count": 79,
   "metadata": {},
   "outputs": [
    {
     "data": {
      "text/plain": [
       "True"
      ]
     },
     "execution_count": 79,
     "metadata": {},
     "output_type": "execute_result"
    }
   ],
   "source": [
    "remote_url.startswith(\"git@github.com\")"
   ]
  },
  {
   "cell_type": "code",
   "execution_count": 80,
   "metadata": {},
   "outputs": [
    {
     "data": {
      "text/plain": [
       "'https://github.com/jed-frey-freenas-plugins/iocage-jaf-plugins.git'"
      ]
     },
     "execution_count": 80,
     "metadata": {},
     "output_type": "execute_result"
    }
   ],
   "source": [
    "remote_url.replace(\"git@github.com:\", \"https://github.com/\")"
   ]
  },
  {
   "cell_type": "code",
   "execution_count": 82,
   "metadata": {},
   "outputs": [
    {
     "data": {
      "text/plain": [
       "'https://github.com/jaf-iocage-plugins/iocage-jaf-plugins.git'"
      ]
     },
     "execution_count": 82,
     "metadata": {},
     "output_type": "execute_result"
    }
   ],
   "source": [
    "https_url"
   ]
  },
  {
   "cell_type": "code",
   "execution_count": 81,
   "metadata": {},
   "outputs": [
    {
     "data": {
      "text/plain": [
       "False"
      ]
     },
     "execution_count": 81,
     "metadata": {},
     "output_type": "execute_result"
    }
   ],
   "source": [
    "remote_url.replace(\"git@github.com:\", \"https://github.com/\") == https_url"
   ]
  },
  {
   "cell_type": "code",
   "execution_count": 83,
   "metadata": {},
   "outputs": [],
   "source": [
    "!git remote set-url origin 'https://github.com/jaf-iocage-plugins/iocage-jaf-plugins.git'"
   ]
  },
  {
   "cell_type": "code",
   "execution_count": 84,
   "metadata": {},
   "outputs": [],
   "source": [
    "!git remote set-url origin-ssh 'git@github.com:jaf-iocage-plugins/iocage-jaf-plugins.git'"
   ]
  },
  {
   "cell_type": "code",
   "execution_count": 85,
   "metadata": {},
   "outputs": [
    {
     "name": "stdout",
     "output_type": "stream",
     "text": [
      "origin\thttps://github.com/jaf-iocage-plugins/iocage-jaf-plugins.git (fetch)\r\n",
      "origin\thttps://github.com/jaf-iocage-plugins/iocage-jaf-plugins.git (push)\r\n",
      "origin-ssh\tgit@github.com:jaf-iocage-plugins/iocage-jaf-plugins.git (fetch)\r\n",
      "origin-ssh\tgit@github.com:jaf-iocage-plugins/iocage-jaf-plugins.git (push)\r\n"
     ]
    }
   ],
   "source": [
    "!git remote -v"
   ]
  },
  {
   "cell_type": "code",
   "execution_count": 86,
   "metadata": {},
   "outputs": [],
   "source": [
    "remote_url = subprocess.check_output(\"git remote get-url origin\".split(\" \")).decode(\"UTF-8\").strip()"
   ]
  },
  {
   "cell_type": "code",
   "execution_count": 87,
   "metadata": {},
   "outputs": [
    {
     "data": {
      "text/plain": [
       "'https://github.com/jaf-iocage-plugins/iocage-jaf-plugins.git'"
      ]
     },
     "execution_count": 87,
     "metadata": {},
     "output_type": "execute_result"
    }
   ],
   "source": [
    "remote_url"
   ]
  },
  {
   "cell_type": "code",
   "execution_count": 88,
   "metadata": {},
   "outputs": [
    {
     "data": {
      "text/markdown": [
       "\n",
       "# iocage plugins\n",
       "\n",
       "iocage plugins for my home machines. \n",
       "\n",
       "Test Environment:\n",
       "\n",
       " - ```FreeBSD 12.0-RELEASE r341666 GENERIC```\n",
       " - iocage ```Version 1.2 RC```\n",
       "\n",
       "# Installing Plugins\n",
       "\n",
       "    git clone --recurse-submodules https://github.com/jaf-iocage-plugins/iocage-jaf-plugins.git\n",
       "    cd iocage-jaf-plugins\n",
       "\n",
       "## Ipsum\n",
       "\n",
       "\n",
       "```./install_jail.sh dhcp```\n",
       "\n",
       "```./install_jail.sh gitea```\n",
       "\n",
       "```./install_jail.sh homeassistant```\n",
       "\n",
       "```./install_jail.sh nextcloud```\n",
       "\n",
       "```./install_jail.sh open-zwave-control-panel```\n",
       "\n",
       "```./install_jail.sh transmission```\n"
      ]
     },
     "metadata": {},
     "output_type": "display_data"
    }
   ],
   "source": [
    "README_TEMPLATE = Template(\"\"\"\n",
    "# iocage plugins\n",
    "\n",
    "iocage plugins for my home machines. \n",
    "\n",
    "Test Environment:\n",
    "\n",
    " - ```{{ uname.version }}```\n",
    " - iocage ```{{ iocage_version }}```\n",
    "\n",
    "# Installing Plugins\n",
    "\n",
    "    git clone --recurse-submodules {{ remote_url }}\n",
    "    cd iocage-jaf-plugins\n",
    "\n",
    "## Ipsum\n",
    "\n",
    "{% for plugin in plugins %}\n",
    "```./install_jail.sh {{ plugin }}```\n",
    "{% endfor %}\n",
    "\"\"\")\n",
    "\n",
    "template_cfg=dict({\n",
    "    \"plugins\": plugins,\n",
    "    \"uname\": platform.uname(),\n",
    "    \"iocage_version\": iocage_version.replace(\"\\t\", \" \"),\n",
    "    \"remote_url\": remote_url,\n",
    "})\n",
    "\n",
    "j = README_TEMPLATE.render(**template_cfg)\n",
    "display_markdown(j, raw=True)\n"
   ]
  },
  {
   "cell_type": "code",
   "execution_count": 89,
   "metadata": {},
   "outputs": [
    {
     "data": {
      "text/plain": [
       "{'dhcp': {'MANIFEST': 'dhcp.json',\n",
       "  'description': 'TODO:',\n",
       "  'icon': '',\n",
       "  'name': 'dhcp',\n",
       "  'official': False},\n",
       " 'gitea': {'MANIFEST': 'gitea.json',\n",
       "  'description': 'TODO:',\n",
       "  'icon': '',\n",
       "  'name': 'gitea',\n",
       "  'official': False},\n",
       " 'homeassistant': {'MANIFEST': 'homeassistant.json',\n",
       "  'description': 'TODO:',\n",
       "  'icon': '',\n",
       "  'name': 'homeassistant',\n",
       "  'official': False},\n",
       " 'nextcloud': {'MANIFEST': 'nextcloud.json',\n",
       "  'description': 'TODO:',\n",
       "  'icon': '',\n",
       "  'name': 'nextcloud',\n",
       "  'official': False},\n",
       " 'open-zwave-control-panel': {'MANIFEST': 'open-zwave-control-panel.json',\n",
       "  'description': 'TODO:',\n",
       "  'icon': '',\n",
       "  'name': 'open-zwave-control-panel',\n",
       "  'official': False},\n",
       " 'transmission': {'MANIFEST': 'transmission.json',\n",
       "  'description': 'TODO:',\n",
       "  'icon': '',\n",
       "  'name': 'transmission',\n",
       "  'official': False}}"
      ]
     },
     "execution_count": 89,
     "metadata": {},
     "output_type": "execute_result"
    }
   ],
   "source": [
    "INDEX"
   ]
  },
  {
   "cell_type": "code",
   "execution_count": null,
   "metadata": {},
   "outputs": [],
   "source": []
  }
 ],
 "metadata": {
  "kernelspec": {
   "display_name": "Python 3",
   "language": "python",
   "name": "python3"
  },
  "language_info": {
   "codemirror_mode": {
    "name": "ipython",
    "version": 3
   },
   "file_extension": ".py",
   "mimetype": "text/x-python",
   "name": "python",
   "nbconvert_exporter": "python",
   "pygments_lexer": "ipython3",
   "version": "3.6.9"
  }
 },
 "nbformat": 4,
 "nbformat_minor": 2
}
