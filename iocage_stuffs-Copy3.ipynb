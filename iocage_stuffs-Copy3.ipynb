{
 "cells": [
  {
   "cell_type": "code",
   "execution_count": 44,
   "metadata": {},
   "outputs": [],
   "source": [
    "import glob\n",
    "import json\n",
    "import os\n",
    "import shutil"
   ]
  },
  {
   "cell_type": "code",
   "execution_count": 45,
   "metadata": {},
   "outputs": [],
   "source": [
    "# !pip install git+https://github.com/jed-frey/jupyter_NotebookCleaners.git#egg=notebookcleaner"
   ]
  },
  {
   "cell_type": "code",
   "execution_count": 46,
   "metadata": {},
   "outputs": [],
   "source": [
    "# !notebookcleaner iocage_stuffs-Copy1.ipynb"
   ]
  },
  {
   "cell_type": "code",
   "execution_count": 48,
   "metadata": {},
   "outputs": [],
   "source": [
    "def process_iocage_plugin_1(manifest):\n",
    "    manifest = os.path.abspath(manifest)\n",
    "    \n",
    "    assert os.path.exists(manifest), FileNotFoundError(manifest)\n",
    "    \n",
    "    basename = os.path.basename(manifest)\n",
    "    #print(f\"basename = {basename}\")\n",
    "    iocage_name, ext = os.path.splitext(basename)\n",
    "    #print(f\"iocage_name = {iocage_name}\")\n",
    "    #print(f\"ext = {ext}\")\n",
    "    dirname = os.path.dirname(manifest)\n",
    "    #print(f\"dirname = {dirname}\")\n",
    "    assert iocage_name == dirname\n",
    "    assert ext == \".json\"\n",
    "    # Open file for reading.\n",
    "    with open(manifest, \"r\") as fid:\n",
    "        # Load the json.\n",
    "        plugin_json = json.load(fid)\n",
    "    # Open file for writing.\n",
    "    with open(manifest, \"w\") as fid:\n",
    "        # Pretty print, indent, and sort keys.\n",
    "        json.dump(plugin_json, fid, indent=4, sort_keys=True)\n",
    "    return basename, iocage_name\n",
    "\n",
    "# Create Index Dictionary.\n",
    "INDEX=dict()\n",
    "manifests = glob.glob(\"*/*.json\")\n",
    "for manifest in manifests:\n",
    "    if \"template\" in manifest:\n",
    "        continue\n",
    "    break"
   ]
  },
  {
   "cell_type": "code",
   "execution_count": 49,
   "metadata": {},
   "outputs": [],
   "source": [
    "manifest = os.path.abspath(manifest)"
   ]
  },
  {
   "cell_type": "code",
   "execution_count": 50,
   "metadata": {},
   "outputs": [
    {
     "data": {
      "text/plain": [
       "('/root/iocage-jaf-plugins/dhcp', 'dhcp.json')"
      ]
     },
     "execution_count": 50,
     "metadata": {},
     "output_type": "execute_result"
    }
   ],
   "source": [
    "os.path.split(manifest)"
   ]
  },
  {
   "cell_type": "code",
   "execution_count": 51,
   "metadata": {},
   "outputs": [
    {
     "data": {
      "text/plain": [
       "'dhcp'"
      ]
     },
     "execution_count": 51,
     "metadata": {},
     "output_type": "execute_result"
    }
   ],
   "source": [
    "os.path.basename(os.path.split(manifest)[0])"
   ]
  },
  {
   "cell_type": "code",
   "execution_count": null,
   "metadata": {},
   "outputs": [],
   "source": []
  },
  {
   "cell_type": "code",
   "execution_count": 52,
   "metadata": {},
   "outputs": [
    {
     "ename": "AssertionError",
     "evalue": "",
     "output_type": "error",
     "traceback": [
      "\u001b[0;31m---------------------------------------------------------------------------\u001b[0m",
      "\u001b[0;31mAssertionError\u001b[0m                            Traceback (most recent call last)",
      "\u001b[0;32m<ipython-input-52-460624c1c31c>\u001b[0m in \u001b[0;36m<module>\u001b[0;34m\u001b[0m\n\u001b[0;32m----> 1\u001b[0;31m \u001b[0mprocess_iocage_plugin_1\u001b[0m\u001b[0;34m(\u001b[0m\u001b[0mmanifest\u001b[0m\u001b[0;34m)\u001b[0m\u001b[0;34m\u001b[0m\u001b[0;34m\u001b[0m\u001b[0m\n\u001b[0m",
      "\u001b[0;32m<ipython-input-48-0d4024fa4b41>\u001b[0m in \u001b[0;36mprocess_iocage_plugin_1\u001b[0;34m(manifest)\u001b[0m\n\u001b[1;32m     11\u001b[0m     \u001b[0mdirname\u001b[0m \u001b[0;34m=\u001b[0m \u001b[0mos\u001b[0m\u001b[0;34m.\u001b[0m\u001b[0mpath\u001b[0m\u001b[0;34m.\u001b[0m\u001b[0mdirname\u001b[0m\u001b[0;34m(\u001b[0m\u001b[0mmanifest\u001b[0m\u001b[0;34m)\u001b[0m\u001b[0;34m\u001b[0m\u001b[0;34m\u001b[0m\u001b[0m\n\u001b[1;32m     12\u001b[0m     \u001b[0;31m#print(f\"dirname = {dirname}\")\u001b[0m\u001b[0;34m\u001b[0m\u001b[0;34m\u001b[0m\u001b[0;34m\u001b[0m\u001b[0m\n\u001b[0;32m---> 13\u001b[0;31m     \u001b[0;32massert\u001b[0m \u001b[0miocage_name\u001b[0m \u001b[0;34m==\u001b[0m \u001b[0mdirname\u001b[0m\u001b[0;34m\u001b[0m\u001b[0;34m\u001b[0m\u001b[0m\n\u001b[0m\u001b[1;32m     14\u001b[0m     \u001b[0;32massert\u001b[0m \u001b[0mext\u001b[0m \u001b[0;34m==\u001b[0m \u001b[0;34m\".json\"\u001b[0m\u001b[0;34m\u001b[0m\u001b[0;34m\u001b[0m\u001b[0m\n\u001b[1;32m     15\u001b[0m     \u001b[0;31m# Open file for reading.\u001b[0m\u001b[0;34m\u001b[0m\u001b[0;34m\u001b[0m\u001b[0;34m\u001b[0m\u001b[0m\n",
      "\u001b[0;31mAssertionError\u001b[0m: "
     ]
    }
   ],
   "source": [
    "process_iocage_plugin_1(manifest)"
   ]
  },
  {
   "cell_type": "code",
   "execution_count": 32,
   "metadata": {},
   "outputs": [],
   "source": [
    "path, basename = os.path.split(manifest)"
   ]
  },
  {
   "cell_type": "code",
   "execution_count": 33,
   "metadata": {},
   "outputs": [
    {
     "data": {
      "text/plain": [
       "'dhcp'"
      ]
     },
     "execution_count": 33,
     "metadata": {},
     "output_type": "execute_result"
    }
   ],
   "source": [
    "os.path.basename(os.path.split(manifest)[0])"
   ]
  },
  {
   "cell_type": "code",
   "execution_count": 35,
   "metadata": {},
   "outputs": [
    {
     "data": {
      "text/plain": [
       "'/root/iocage-jaf-plugins'"
      ]
     },
     "execution_count": 35,
     "metadata": {},
     "output_type": "execute_result"
    }
   ],
   "source": [
    "os.path.dirname(path)"
   ]
  },
  {
   "cell_type": "code",
   "execution_count": 29,
   "metadata": {},
   "outputs": [],
   "source": [
    "manifest=os.path.abspath(manifest)"
   ]
  },
  {
   "cell_type": "code",
   "execution_count": 57,
   "metadata": {},
   "outputs": [],
   "source": [
    "def process_iocage_plugin_2(manifest):\n",
    "    manifest = os.path.abspath(manifest)\n",
    "    \n",
    "    assert os.path.exists(manifest), FileNotFoundError(manifest)\n",
    "    \n",
    "    path, basename = os.path.split(manifest)\n",
    "    iocage_name, ext = os.path.splitext(basename)\n",
    "    dirname = os.path.basename(path)\n",
    "    assert iocage_name == dirname\n",
    "    assert ext == \".json\"\n",
    "    # Open file for reading.\n",
    "    with open(manifest, \"r\") as fid:\n",
    "        # Load the json.\n",
    "        plugin_json = json.load(fid)\n",
    "    # Open file for writing.\n",
    "    with open(manifest, \"w\") as fid:\n",
    "        # Pretty print, indent, and sort keys.\n",
    "        json.dump(plugin_json, fid, indent=4, sort_keys=True)\n",
    "        \n",
    "    shutil.copy(manifest, os.path.dirname(path))\n",
    "    \n",
    "    return iocage_name, dict({\n",
    "        'MANIFEST': basename,\n",
    "        \"name\": iocage_name,\n",
    "        'official': False,\n",
    "        'description': \"TODO:\",\n",
    "        'icon': \"\",\n",
    "    })"
   ]
  },
  {
   "cell_type": "code",
   "execution_count": 58,
   "metadata": {},
   "outputs": [
    {
     "data": {
      "text/plain": [
       "('open-zwave-control-panel',\n",
       " {'MANIFEST': 'open-zwave-control-panel.json',\n",
       "  'name': 'open-zwave-control-panel',\n",
       "  'official': False,\n",
       "  'description': 'TODO:',\n",
       "  'icon': ''})"
      ]
     },
     "execution_count": 58,
     "metadata": {},
     "output_type": "execute_result"
    }
   ],
   "source": [
    "process_iocage_plugin_2(manifest)"
   ]
  },
  {
   "cell_type": "code",
   "execution_count": 59,
   "metadata": {},
   "outputs": [],
   "source": [
    "INDEX=dict()\n",
    "manifests = glob.glob(\"*/*.json\")\n",
    "for manifest in manifests:\n",
    "    if \"template\" in manifest:\n",
    "        continue\n",
    "    manifest = os.path.abspath(manifest)\n",
    "    key, data = process_iocage_plugin_2(manifest)\n",
    "    INDEX[key] = data\n",
    "# Open the index file.\n",
    "with open(\"INDEX\", \"w\") as fid:\n",
    "    # Pretty print, indent, and sort keys.\n",
    "    json.dump(INDEX, fid, indent=4, sort_keys=True)"
   ]
  },
  {
   "cell_type": "code",
   "execution_count": null,
   "metadata": {},
   "outputs": [],
   "source": []
  }
 ],
 "metadata": {
  "kernelspec": {
   "display_name": "Python 3",
   "language": "python",
   "name": "python3"
  },
  "language_info": {
   "codemirror_mode": {
    "name": "ipython",
    "version": 3
   },
   "file_extension": ".py",
   "mimetype": "text/x-python",
   "name": "python",
   "nbconvert_exporter": "python",
   "pygments_lexer": "ipython3",
   "version": "3.6.9"
  }
 },
 "nbformat": 4,
 "nbformat_minor": 2
}
